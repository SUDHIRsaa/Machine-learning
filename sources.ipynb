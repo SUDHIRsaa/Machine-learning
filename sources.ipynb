{
 "cells": [
  {
   "cell_type": "code",
   "execution_count": 57,
   "metadata": {},
   "outputs": [
    {
     "data": {
      "text/html": [
       "<div>\n",
       "<style scoped>\n",
       "    .dataframe tbody tr th:only-of-type {\n",
       "        vertical-align: middle;\n",
       "    }\n",
       "\n",
       "    .dataframe tbody tr th {\n",
       "        vertical-align: top;\n",
       "    }\n",
       "\n",
       "    .dataframe thead th {\n",
       "        text-align: right;\n",
       "    }\n",
       "</style>\n",
       "<table border=\"1\" class=\"dataframe\">\n",
       "  <thead>\n",
       "    <tr style=\"text-align: right;\">\n",
       "      <th></th>\n",
       "      <th>employee_name</th>\n",
       "      <th>email</th>\n",
       "      <th>age</th>\n",
       "    </tr>\n",
       "  </thead>\n",
       "  <tbody>\n",
       "    <tr>\n",
       "      <th>0</th>\n",
       "      <td>jones</td>\n",
       "      <td>dasda</td>\n",
       "      <td>11</td>\n",
       "    </tr>\n",
       "    <tr>\n",
       "      <th>1</th>\n",
       "      <td>jones1</td>\n",
       "      <td>dasda2</td>\n",
       "      <td>113</td>\n",
       "    </tr>\n",
       "    <tr>\n",
       "      <th>2</th>\n",
       "      <td>jones2</td>\n",
       "      <td>dasda2</td>\n",
       "      <td>1135</td>\n",
       "    </tr>\n",
       "  </tbody>\n",
       "</table>\n",
       "</div>"
      ],
      "text/plain": [
       "  employee_name   email   age\n",
       "0         jones   dasda    11\n",
       "1        jones1  dasda2   113\n",
       "2        jones2  dasda2  1135"
      ]
     },
     "execution_count": 57,
     "metadata": {},
     "output_type": "execute_result"
    }
   ],
   "source": [
    "import pandas as pd\n",
    "from io import StringIO\n",
    "\n",
    "Data = '[{\"employee_name\":\"jones\",\"email\":\"dasda\",\"age\":11},{\"employee_name\":\"jones1\",\"email\":\"dasda2\",\"age\":113},{\"employee_name\":\"jones2\",\"email\":\"dasda2\",\"age\":1135}]'  # Fixed the syntax error by adding a missing quote\n",
    "df=pd.read_json(StringIO(Data))\n",
    "df\n"
   ]
  },
  {
   "cell_type": "code",
   "execution_count": 58,
   "metadata": {},
   "outputs": [
    {
     "data": {
      "text/plain": [
       "'{\"employee_name\":{\"0\":\"jones\",\"1\":\"jones1\",\"2\":\"jones2\"},\"email\":{\"0\":\"dasda\",\"1\":\"dasda2\",\"2\":\"dasda2\"},\"age\":{\"0\":11,\"1\":113,\"2\":1135}}'"
      ]
     },
     "execution_count": 58,
     "metadata": {},
     "output_type": "execute_result"
    }
   ],
   "source": [
    "df.to_json()"
   ]
  },
  {
   "cell_type": "code",
   "execution_count": 59,
   "metadata": {},
   "outputs": [
    {
     "data": {
      "text/plain": [
       "'{\"schema\":{\"fields\":[{\"name\":\"index\",\"type\":\"integer\"},{\"name\":\"employee_name\",\"type\":\"string\"},{\"name\":\"email\",\"type\":\"string\"},{\"name\":\"age\",\"type\":\"integer\"}],\"primaryKey\":[\"index\"],\"pandas_version\":\"1.4.0\"},\"data\":[{\"index\":0,\"employee_name\":\"jones\",\"email\":\"dasda\",\"age\":11},{\"index\":1,\"employee_name\":\"jones1\",\"email\":\"dasda2\",\"age\":113},{\"index\":2,\"employee_name\":\"jones2\",\"email\":\"dasda2\",\"age\":1135}]}'"
      ]
     },
     "execution_count": 59,
     "metadata": {},
     "output_type": "execute_result"
    }
   ],
   "source": [
    "df.to_json(orient='table')"
   ]
  },
  {
   "cell_type": "code",
   "execution_count": 63,
   "metadata": {},
   "outputs": [
    {
     "data": {
      "text/plain": [
       "[    Cert Number                        Bank Name            City  \\\n",
       " 0           110                         Bank OZK     Little Rock   \n",
       " 1         33539                   Preferred Bank     Los Angeles   \n",
       " 2         32203                Summit State Bank      Santa Rosa   \n",
       " 3         19690                   Northeast Bank        Lewiston   \n",
       " 4         19101                     Harford Bank        Aberdeen   \n",
       " 5         90211  Hingham Institution For Savings         Hingham   \n",
       " 6         11813                     Cadence Bank          Tupelo   \n",
       " 7         29143            Systemic Savings Bank     Springfield   \n",
       " 8         58481                       First Bank        Hamilton   \n",
       " 9         57449                   Medallion Bank  Salt Lake City   \n",
       " 10        35095                        Townebank      Portsmouth   \n",
       " \n",
       "             State  \n",
       " 0        Arkansas  \n",
       " 1      California  \n",
       " 2      California  \n",
       " 3           Maine  \n",
       " 4        Maryland  \n",
       " 5   Massachusetts  \n",
       " 6     Mississippi  \n",
       " 7        Missouri  \n",
       " 8      New Jersey  \n",
       " 9            Utah  \n",
       " 10       Virginia  ]"
      ]
     },
     "execution_count": 63,
     "metadata": {},
     "output_type": "execute_result"
    }
   ],
   "source": [
    "url=\"https://www.fdic.gov/bank/individual/part335/\"\n",
    "a=pd.read_html(url,match=\"City\")\n",
    "a"
   ]
  },
  {
   "cell_type": "code",
   "execution_count": 56,
   "metadata": {},
   "outputs": [
    {
     "name": "stdout",
     "output_type": "stream",
     "text": [
      "Collecting beautifulsoup4\n",
      "  Downloading beautifulsoup4-4.12.3-py3-none-any.whl.metadata (3.8 kB)\n",
      "Collecting soupsieve>1.2 (from beautifulsoup4)\n",
      "  Downloading soupsieve-2.5-py3-none-any.whl.metadata (4.7 kB)\n",
      "Downloading beautifulsoup4-4.12.3-py3-none-any.whl (147 kB)\n",
      "   ---------------------------------------- 0.0/147.9 kB ? eta -:--:--\n",
      "   -------- ------------------------------- 30.7/147.9 kB 1.4 MB/s eta 0:00:01\n",
      "   ---------------------------------------- 147.9/147.9 kB 2.9 MB/s eta 0:00:00\n",
      "Downloading soupsieve-2.5-py3-none-any.whl (36 kB)\n",
      "Installing collected packages: soupsieve, beautifulsoup4\n",
      "Successfully installed beautifulsoup4-4.12.3 soupsieve-2.5\n",
      "Note: you may need to restart the kernel to use updated packages.\n"
     ]
    },
    {
     "name": "stderr",
     "output_type": "stream",
     "text": [
      "\n",
      "[notice] A new release of pip is available: 24.0 -> 24.1.1\n",
      "[notice] To update, run: python.exe -m pip install --upgrade pip\n"
     ]
    }
   ],
   "source": [
    "pip install beautifulsoup4\n"
   ]
  },
  {
   "cell_type": "code",
   "execution_count": 49,
   "metadata": {},
   "outputs": [
    {
     "data": {
      "text/plain": [
       "[    Cert Number                        Bank Name            City  \\\n",
       " 0           110                         Bank OZK     Little Rock   \n",
       " 1         33539                   Preferred Bank     Los Angeles   \n",
       " 2         32203                Summit State Bank      Santa Rosa   \n",
       " 3         19690                   Northeast Bank        Lewiston   \n",
       " 4         19101                     Harford Bank        Aberdeen   \n",
       " 5         90211  Hingham Institution For Savings         Hingham   \n",
       " 6         11813                     Cadence Bank          Tupelo   \n",
       " 7         29143            Systemic Savings Bank     Springfield   \n",
       " 8         58481                       First Bank        Hamilton   \n",
       " 9         57449                   Medallion Bank  Salt Lake City   \n",
       " 10        35095                        Townebank      Portsmouth   \n",
       " \n",
       "             State  \n",
       " 0        Arkansas  \n",
       " 1      California  \n",
       " 2      California  \n",
       " 3           Maine  \n",
       " 4        Maryland  \n",
       " 5   Massachusetts  \n",
       " 6     Mississippi  \n",
       " 7        Missouri  \n",
       " 8      New Jersey  \n",
       " 9            Utah  \n",
       " 10       Virginia  ]"
      ]
     },
     "execution_count": 49,
     "metadata": {},
     "output_type": "execute_result"
    }
   ],
   "source": [
    "a"
   ]
  },
  {
   "cell_type": "code",
   "execution_count": null,
   "metadata": {},
   "outputs": [],
   "source": []
  },
  {
   "cell_type": "code",
   "execution_count": null,
   "metadata": {},
   "outputs": [],
   "source": []
  },
  {
   "cell_type": "code",
   "execution_count": null,
   "metadata": {},
   "outputs": [],
   "source": []
  }
 ],
 "metadata": {
  "kernelspec": {
   "display_name": "Python 3",
   "language": "python",
   "name": "python3"
  },
  "language_info": {
   "codemirror_mode": {
    "name": "ipython",
    "version": 3
   },
   "file_extension": ".py",
   "mimetype": "text/x-python",
   "name": "python",
   "nbconvert_exporter": "python",
   "pygments_lexer": "ipython3",
   "version": "3.12.1"
  }
 },
 "nbformat": 4,
 "nbformat_minor": 2
}
